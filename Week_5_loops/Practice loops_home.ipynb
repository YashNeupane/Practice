{
 "cells": [
  {
   "cell_type": "code",
   "execution_count": 3,
   "id": "eff09a0c",
   "metadata": {
    "scrolled": true
   },
   "outputs": [
    {
     "name": "stdout",
     "output_type": "stream",
     "text": [
      "101\n"
     ]
    }
   ],
   "source": [
    "# While loop\n",
    "\n",
    "x=0\n",
    "\n",
    "while x<= 100:\n",
    "    x= x+1\n",
    "print(x)"
   ]
  },
  {
   "cell_type": "code",
   "execution_count": 18,
   "id": "03b48589",
   "metadata": {},
   "outputs": [
    {
     "name": "stdout",
     "output_type": "stream",
     "text": [
      "5\n"
     ]
    }
   ],
   "source": [
    "#L5Prac_loops (Find the greatest common divisor of 1250 and 6745)\n",
    "#so to begin, we want to use 1250 as someting to find the greatest common divisor of because the greatest of 1250 \n",
    "#will fit into 6754 and not the other way around.\n",
    "\n",
    "x=1 #why does x have to start with 1??? because listen, x is 1 becasue we want to start looking from the \n",
    "#lowest possible integer that isn't 0 because guess what? you cannot divide by 0 (ik its shocking)\n",
    "\n",
    "#now we want to have someting that keeps track of our greatest common divisor so lets do that\n",
    "\n",
    "Greatestnum = 0 # we give this a innitial value of 0, because it does't have a vaue yet\n",
    "\n",
    "#now the fun part, lets get in while loop.\n",
    "\n",
    "while x < 1250:\n",
    "    if 1250 % x == 0 and 6745 % x == 0: \n",
    "        \n",
    "        if x > Greatestnum: #If x is greater that the current max than we want that x to be upadeted\n",
    "            Greatestnum = x\n",
    "        \n",
    "    x = x+1\n",
    "    \n",
    "print(Greatestnum)"
   ]
  },
  {
   "cell_type": "code",
   "execution_count": 9,
   "id": "29015b5f",
   "metadata": {},
   "outputs": [
    {
     "name": "stdout",
     "output_type": "stream",
     "text": [
      "5\n"
     ]
    }
   ],
   "source": [
    "\n",
    "# sets maximum valie in the beginning\n",
    "\n",
    "x = 1\n",
    "currentMax = 0\n",
    "\n",
    "while x < 1250: # the largest common divisor cannot be bigger than 1250. it has to be less than or equal to 1250\n",
    "    \n",
    "    if 1250 % x == 0 and 6745 % x == 0: # to find the common divisor\n",
    "        \n",
    "        if x > currentMax:\n",
    "            currentMax = x\n",
    "    \n",
    "    x = x+1 # updates x nomatter if its the common divisor or not\n",
    "print(currentMax)"
   ]
  },
  {
   "cell_type": "code",
   "execution_count": null,
   "id": "0725151c",
   "metadata": {},
   "outputs": [],
   "source": [
    "#we can also solve this by creating a list of numbers that are the GCD, and put them inside that list and \n",
    "#sort the list by greatest and then use that to print the largest num\n",
    "\n",
    "x = 1 \n",
    "emptylist = []\n",
    "\n",
    "while x < 1250:\n",
    "    \n",
    "    if 1250 % x == 0 and 6745 % x == 0:\n",
    "        \n",
    "        if \n",
    "    "
   ]
  },
  {
   "cell_type": "code",
   "execution_count": 19,
   "id": "8aac560c",
   "metadata": {},
   "outputs": [
    {
     "name": "stdout",
     "output_type": "stream",
     "text": [
      "5\n"
     ]
    }
   ],
   "source": [
    "x = 1 # x is the common divisor\n",
    "commonDivisors = [] #used to store the common divisor\n",
    "\n",
    "\n",
    "while x < 1250: # the largest common divisor cannot be bigger than 1250. it has to be less than or equal to 1250\n",
    "    \n",
    "    if 1250 % x == 0 and 6745%x == 0: # to find the common divisor\n",
    "        \n",
    "        commonDivisors.append(x) #this adds the values of x into the list\n",
    "    \n",
    "    x = x + 1 # make sure its written or else is an infinite loop\n",
    "    \n",
    "print(max(commonDivisors))"
   ]
  },
  {
   "cell_type": "code",
   "execution_count": null,
   "id": "9662c3c5",
   "metadata": {},
   "outputs": [],
   "source": []
  }
 ],
 "metadata": {
  "kernelspec": {
   "display_name": "Python 3 (ipykernel)",
   "language": "python",
   "name": "python3"
  },
  "language_info": {
   "codemirror_mode": {
    "name": "ipython",
    "version": 3
   },
   "file_extension": ".py",
   "mimetype": "text/x-python",
   "name": "python",
   "nbconvert_exporter": "python",
   "pygments_lexer": "ipython3",
   "version": "3.11.5"
  }
 },
 "nbformat": 4,
 "nbformat_minor": 5
}
