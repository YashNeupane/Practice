{
 "cells": [
  {
   "cell_type": "code",
   "execution_count": null,
   "id": "9c5a7c3e",
   "metadata": {},
   "outputs": [],
   "source": [
    "#ask for input from the user by the input finction\n",
    "\n",
    "## n = 10, 1,2,3,...9, 10%2 ==0,\n",
    "##n = 7\n",
    "\n",
    "n= int(input(\"Enter a positive integer: \"))\n",
    "\n",
    "if n==0 or n==1: ## first conditon\n",
    "    print(\"n is neither prime or composite\")\n",
    "    \n",
    "else:\n",
    "    for i in range(2,n):\n",
    "        if n % i == 0:\n",
    "            print(str(i)+ \"is a divisor for n\")\n",
    "            print(\"n is a composite number\")\n",
    "            break\n",
    "            \n",
    "        if k = 0:\n",
    "            print(\"n is a prime number\")\n",
    "            \n",
    "        elif k=1: #k must have been updated above\n",
    "            print('n is a composite number ')\n",
    "\n",
    "    ## if after going throigh all numbers betweeen 2 ther eis no i serving as\n",
    "    #the vivisor for n, the n is a prime number"
   ]
  }
 ],
 "metadata": {
  "kernelspec": {
   "display_name": "Python 3 (ipykernel)",
   "language": "python",
   "name": "python3"
  },
  "language_info": {
   "codemirror_mode": {
    "name": "ipython",
    "version": 3
   },
   "file_extension": ".py",
   "mimetype": "text/x-python",
   "name": "python",
   "nbconvert_exporter": "python",
   "pygments_lexer": "ipython3",
   "version": "3.11.5"
  }
 },
 "nbformat": 4,
 "nbformat_minor": 5
}
