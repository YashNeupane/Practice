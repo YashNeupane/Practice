{
 "cells": [
  {
   "cell_type": "code",
   "execution_count": 6,
   "id": "7d20ba13",
   "metadata": {},
   "outputs": [
    {
     "name": "stdout",
     "output_type": "stream",
     "text": [
      "The total sum is338350\n"
     ]
    }
   ],
   "source": [
    "#we can use for loop or a while loop\n",
    "\n",
    "#1. \n",
    "\n",
    "n = 100\n",
    "\n",
    "sum = 0 #to store the sum of the squared values\n",
    "\n",
    "valueTobeAdded = 1 #sum all numbers between 1 and n (100)\n",
    "\n",
    "while valueTobeAdded <= n:\n",
    "    sum = sum + valueTobeAdded**2\n",
    "    valueTobeAdded = valueTobeAdded+1 #important to update the value\n",
    "    \n",
    "print((\"The total sum is \") + str(sum))\n",
    "    "
   ]
  },
  {
   "cell_type": "code",
   "execution_count": 8,
   "id": "f35b305b",
   "metadata": {},
   "outputs": [
    {
     "name": "stdout",
     "output_type": "stream",
     "text": [
      "338350\n"
     ]
    }
   ],
   "source": [
    "## in a for-loop\n",
    "\n",
    "n = 100\n",
    "sum = 0 #store the summation of the values\n",
    "\n",
    "for x in range(1,n+1):\n",
    "    sum = sum + x**2\n",
    "    \n",
    "print(sum)"
   ]
  },
  {
   "cell_type": "code",
   "execution_count": 9,
   "id": "7c2ee483",
   "metadata": {},
   "outputs": [],
   "source": []
  },
  {
   "cell_type": "code",
   "execution_count": null,
   "id": "660b0d9e",
   "metadata": {},
   "outputs": [],
   "source": []
  }
 ],
 "metadata": {
  "kernelspec": {
   "display_name": "Python 3 (ipykernel)",
   "language": "python",
   "name": "python3"
  },
  "language_info": {
   "codemirror_mode": {
    "name": "ipython",
    "version": 3
   },
   "file_extension": ".py",
   "mimetype": "text/x-python",
   "name": "python",
   "nbconvert_exporter": "python",
   "pygments_lexer": "ipython3",
   "version": "3.11.5"
  }
 },
 "nbformat": 4,
 "nbformat_minor": 5
}
