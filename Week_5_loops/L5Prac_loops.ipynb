{
 "cells": [
  {
   "cell_type": "code",
   "execution_count": 3,
   "id": "131fbdbc",
   "metadata": {},
   "outputs": [
    {
     "name": "stdout",
     "output_type": "stream",
     "text": [
      "5\n"
     ]
    }
   ],
   "source": [
    "## List solution\n",
    "\n",
    "x = 1 # x is the common divisor\n",
    "commonDivisors = [] #used to store the common divisor\n",
    "\n",
    "n = 0 # keeps the number of prints\n",
    "\n",
    "while x < 1250: # the largest common divisor cannot be bigger than 1250. it has to be less than or equal to 1250\n",
    "    \n",
    "    if 1250 % x == 0 and 6745%x == 0: # to find the common divisor\n",
    "        \n",
    "        commonDivisors.append(x) # why did we appent? wait @@@@@@@\n",
    "    \n",
    "    x = x + 1 # make sure its written or else is an infinite loop\n",
    "    \n",
    "    n = n+1 # small trick to see how many times we have printed that value\n",
    "\n",
    "print(max(commonDivisors))"
   ]
  },
  {
   "cell_type": "code",
   "execution_count": null,
   "id": "a4c42dac",
   "metadata": {},
   "outputs": [],
   "source": [
    "# sets maximum valie in the beginning\n",
    "\n",
    "x = 1\n",
    "currentMax = 0\n",
    "\n",
    "while x < 1250: # the largest common divisor cannot be bigger than 1250. it has to be less than or equal to 1250\n",
    "    \n",
    "    if 1250 % x == 0 and 6745%x == 0: # to find the common divisor\n",
    "        if x > currentMax:\n",
    "            currentMax = x\n",
    "        x = x+1 # updates x nomatter if its the common divisor or not\n",
    "    \n",
    "print(currentMax)"
   ]
  },
  {
   "cell_type": "code",
   "execution_count": null,
   "id": "a6e15aee",
   "metadata": {},
   "outputs": [],
   "source": []
  }
 ],
 "metadata": {
  "kernelspec": {
   "display_name": "Python 3 (ipykernel)",
   "language": "python",
   "name": "python3"
  },
  "language_info": {
   "codemirror_mode": {
    "name": "ipython",
    "version": 3
   },
   "file_extension": ".py",
   "mimetype": "text/x-python",
   "name": "python",
   "nbconvert_exporter": "python",
   "pygments_lexer": "ipython3",
   "version": "3.11.5"
  }
 },
 "nbformat": 4,
 "nbformat_minor": 5
}
