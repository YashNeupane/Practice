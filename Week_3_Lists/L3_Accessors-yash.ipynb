{
 "cells": [
  {
   "cell_type": "code",
   "execution_count": 3,
   "id": "cc0bb059",
   "metadata": {},
   "outputs": [
    {
     "name": "stdout",
     "output_type": "stream",
     "text": [
      "2\n",
      "2\n"
     ]
    }
   ],
   "source": [
    "##1. len() returns the number of elements in a list\n",
    "## len() returns a valuem Not None\n",
    "\n",
    "fruits = ['apple',\"grape\"]\n",
    "\n",
    "print(len(fruits))\n",
    "\n",
    "x = (len(fruits)) ## the value of x is 2\n",
    "print(x)\n"
   ]
  },
  {
   "cell_type": "code",
   "execution_count": 5,
   "id": "8da0248d",
   "metadata": {},
   "outputs": [
    {
     "name": "stdout",
     "output_type": "stream",
     "text": [
      "0\n",
      "0\n"
     ]
    }
   ],
   "source": [
    "#2. cout(val), it returns the number of occurances of the value\n",
    "\n",
    "print(fruits.count(\"pineapple\"))\n",
    "x = fruits.count(\"pineapple\") ## x is 0\n",
    "\n",
    "print (x)"
   ]
  },
  {
   "cell_type": "code",
   "execution_count": 6,
   "id": "3cc802fd",
   "metadata": {},
   "outputs": [
    {
     "name": "stdout",
     "output_type": "stream",
     "text": [
      "4\n",
      "2\n"
     ]
    }
   ],
   "source": [
    "##3. data.inded(value)\n",
    "\n",
    "x = [1,1,\"Python\", \"Python\", 2,3,2]\n",
    "print(x.index (2)) ##returns 0 \n",
    "print(x.index(\"Python\")) ## returns 2\n",
    "\n",
    "# Returns the first appearence of the given index"
   ]
  },
  {
   "cell_type": "code",
   "execution_count": 11,
   "id": "ba73fca8",
   "metadata": {},
   "outputs": [
    {
     "ename": "ValueError",
     "evalue": "1 is not in list",
     "output_type": "error",
     "traceback": [
      "\u001b[0;31m---------------------------------------------------------------------------\u001b[0m",
      "\u001b[0;31mValueError\u001b[0m                                Traceback (most recent call last)",
      "Cell \u001b[0;32mIn[11], line 5\u001b[0m\n\u001b[1;32m      1\u001b[0m \u001b[38;5;66;03m##data.index(value,start)\u001b[39;00m\n\u001b[1;32m      2\u001b[0m \u001b[38;5;66;03m# it returns the smallest index of val, \u001b[39;00m\n\u001b[1;32m      3\u001b[0m \u001b[38;5;66;03m# but it has to be greater than or equal to. \u001b[39;00m\n\u001b[0;32m----> 5\u001b[0m \u001b[38;5;28mprint\u001b[39m(x\u001b[38;5;241m.\u001b[39mindex(\u001b[38;5;241m1\u001b[39m,\u001b[38;5;241m1\u001b[39m))\u001b[38;5;66;03m## returns index 1 \u001b[39;00m\n\u001b[1;32m      6\u001b[0m \u001b[38;5;28mprint\u001b[39m(x\u001b[38;5;241m.\u001b[39mindex(\u001b[38;5;241m1\u001b[39m,\u001b[38;5;241m2\u001b[39m)) \u001b[38;5;66;03m##error: elemnt not in list\u001b[39;00m\n\u001b[1;32m      8\u001b[0m \u001b[38;5;66;03m## data.index(val, start, stop)\u001b[39;00m\n\u001b[1;32m      9\u001b[0m \u001b[38;5;66;03m## do the search between start and stop -1\u001b[39;00m\n",
      "\u001b[0;31mValueError\u001b[0m: 1 is not in list"
     ]
    }
   ],
   "source": [
    "##data.index(value,start)\n",
    "# it returns the smallest index of val, \n",
    "# but it has to be greater than or equal to. \n",
    "\n",
    "print(x.index(1,1))## returns index 1 \n",
    "print(x.index(1,2)) ##error: elemnt not in list\n",
    "\n",
    "## data.index(val, start, stop)\n",
    "## do the search between start and stop -1\n",
    "x = [\"a\", \"a\", \"b\",\"a\",\"c\",\"a\"]\n",
    "print(x.index(\"a\",2,4)) # start at 2 (3rd element)\n",
    "## ends at 3 (fourth element), returns 3\n",
    "\n",
    "print(x.index(\"a\",2,-1))\n",
    "#print(x.index(\"c\",1,4))\n",
    "print(x.index(\"a\",3,-1))## returns 3\n"
   ]
  },
  {
   "cell_type": "code",
   "execution_count": null,
   "id": "a2e5eca6",
   "metadata": {},
   "outputs": [],
   "source": [
    "##5. Value in data\n",
    "\n",
    "x = [1,2,3]\n",
    "y = 2 in x\n",
    "print (y) ##y is True\n",
    "print(2 in x) # if 2 is really in x then it returns true \n",
    "print (4 in x )# if 4 is really in x then it returns true  \n"
   ]
  }
 ],
 "metadata": {
  "kernelspec": {
   "display_name": "Python 3 (ipykernel)",
   "language": "python",
   "name": "python3"
  },
  "language_info": {
   "codemirror_mode": {
    "name": "ipython",
    "version": 3
   },
   "file_extension": ".py",
   "mimetype": "text/x-python",
   "name": "python",
   "nbconvert_exporter": "python",
   "pygments_lexer": "ipython3",
   "version": "3.11.5"
  }
 },
 "nbformat": 4,
 "nbformat_minor": 5
}
