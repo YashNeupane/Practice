{
 "cells": [
  {
   "cell_type": "code",
   "execution_count": 3,
   "id": "d329215b",
   "metadata": {},
   "outputs": [
    {
     "name": "stdout",
     "output_type": "stream",
     "text": [
      "orange\n",
      "['apple', 'Watermelon', 'kiwi']\n"
     ]
    }
   ],
   "source": [
    "fruits = [\"apple\", \"orange\", \"kiwi\"]\n",
    "print(fruits[1])\n",
    "\n",
    "# how to change the value ofo thhe elemnent\n",
    "\n",
    "fruits[1]= \"Watermelon\"\n",
    "print(fruits)"
   ]
  },
  {
   "cell_type": "code",
   "execution_count": 13,
   "id": "9c3af16c",
   "metadata": {},
   "outputs": [
    {
     "name": "stdout",
     "output_type": "stream",
     "text": [
      "False\n",
      "b\n",
      "b\n"
     ]
    }
   ],
   "source": [
    "list1 = [1,2,[\"a\",\"b\", [True, False]]] #3 elements \n",
    "print(list1[2][2][1])\n",
    "\n",
    "#print (list1[2][3]) ## index 3 exceeds the maximum\n",
    "\n",
    "#print (list1[2][1][1]) # \"B\"[1] we want to access the second character but there is no second character\n",
    "\n",
    "print (list1[2][1][0]) # now it will print b because b is the 0th one\n",
    "\n",
    "print(list1[-1][-2]) # Reverse indexing; -1 gives us last element -> then the -2 gives us second to last element\n",
    "\n",
    "# list1[-1] Returns the last element of list1\n",
    "#list1[-1][-2]: returns the second last element of the\n"
   ]
  },
  {
   "cell_type": "code",
   "execution_count": 15,
   "id": "4219ff1e",
   "metadata": {},
   "outputs": [
    {
     "name": "stdout",
     "output_type": "stream",
     "text": [
      "['introduction', 'Variables', 'list', ['selection, loop']]\n"
     ]
    }
   ],
   "source": [
    "# Mutators for a list named data\n",
    "\n",
    "# 1. data.append\n",
    "\n",
    "classSchedule = [\"introduction\", \"Variables\", \"list\"]\n",
    "\n",
    "classSchedule.append([\"selection, loop\"]) # class schedule is automatically updated )OHHHHH we just added \"selection and loop\" into the list.\n",
    "\n",
    "print (classSchedule)\n",
    "\n",
    "### ohhhh append is added as [ xxx xxx] added as one element as a whole\n"
   ]
  },
  {
   "cell_type": "code",
   "execution_count": 20,
   "id": "df9da65e",
   "metadata": {},
   "outputs": [
    {
     "name": "stdout",
     "output_type": "stream",
     "text": [
      "['introduction', 'Variables', 'list', 'selection, loop']\n"
     ]
    }
   ],
   "source": [
    "#2.\n",
    "\n",
    "classSchedule.insert(3, [\"selection, loop\"]) ## you can add the element anywhere in the list\n"
   ]
  },
  {
   "cell_type": "code",
   "execution_count": 1,
   "id": "8230c8f6",
   "metadata": {},
   "outputs": [
    {
     "name": "stdout",
     "output_type": "stream",
     "text": [
      "['introduction', 'Variables', 'list', 'selection', 'loop']\n"
     ]
    }
   ],
   "source": [
    "# 3. \n",
    "\n",
    "# we want to change the schedule to [\"introduction\", \"Variables\", \"list\" ,\"selection, loop\"]\n",
    "\n",
    "classSchedule = [\"introduction\", \"Variables\", \"list\"] \n",
    "\n",
    "classSchedule.extend([\"selection\", \"loop\"]) ## you can only add this to the end of the loop;.\n",
    "\n",
    "print(classSchedule)\n",
    "\n",
    "\n",
    "### Extend just adds the inside values into the end. \n",
    "\n",
    "# insert and extend do not return any value\n",
    "## insert(i,x) inserts x to the position with index i"
   ]
  },
  {
   "cell_type": "code",
   "execution_count": 25,
   "id": "37a86674",
   "metadata": {},
   "outputs": [
    {
     "name": "stdout",
     "output_type": "stream",
     "text": [
      "['introduction', 'Variables', 'list']\n"
     ]
    }
   ],
   "source": [
    "## The remove method\n",
    "classSchedule = [\"introduction\", \"Variables\", \"list\", \"loop\"] \n",
    "\n",
    "classSchedule.remove(\"loop\") # starts the search from the first element and then when it finds loop it removes it.\n",
    "\n",
    "print(classSchedule)"
   ]
  },
  {
   "cell_type": "code",
   "execution_count": 30,
   "id": "fb0dddaf",
   "metadata": {},
   "outputs": [
    {
     "name": "stdout",
     "output_type": "stream",
     "text": [
      "['introduction', 'list']\n",
      "list introduction\n"
     ]
    }
   ],
   "source": [
    "## POP\n",
    "classSchedule = [\"introduction\", \"Variables\", \"list\", \"loop\"] \n",
    "\n",
    "classSchedule.pop(1) #we want to remove the second variable\n",
    "#we can remove the specific index of the element we want to remove\n",
    "\n",
    "classSchedule.pop() #pop without the specific index (i) is gonna remove the last element on the list.\n",
    "\n",
    "print(classSchedule)\n",
    "\n",
    "x = classSchedule.pop(1)\n",
    "\n",
    "y = classSchedule.pop()\n",
    "\n",
    "print (x,y)\n",
    "\n",
    "#Pop()return the element that is removed\n"
   ]
  },
  {
   "cell_type": "code",
   "execution_count": 31,
   "id": "cf3da8f9",
   "metadata": {},
   "outputs": [
    {
     "name": "stdout",
     "output_type": "stream",
     "text": [
      "['loop', 'list', 'Variables', 'introduction']\n"
     ]
    }
   ],
   "source": [
    "## we want to reverse the whole list\n",
    "\n",
    "classSchedule = [\"introduction\", \"Variables\", \"list\", \"loop\"] \n",
    "classSchedule.reverse()\n",
    "print(classSchedule)"
   ]
  },
  {
   "cell_type": "code",
   "execution_count": 32,
   "id": "6ee906cd",
   "metadata": {},
   "outputs": [
    {
     "name": "stdout",
     "output_type": "stream",
     "text": [
      "[1, 2, 8, 10]\n"
     ]
    }
   ],
   "source": [
    "## We want to sort element in a list\n",
    "\n",
    "list1 = [1,2,10,8]\n",
    "list1.sort()\n",
    "print(list1)"
   ]
  },
  {
   "cell_type": "code",
   "execution_count": 35,
   "id": "ca42d08f",
   "metadata": {},
   "outputs": [
    {
     "name": "stdout",
     "output_type": "stream",
     "text": [
      "['Juice', 'Orange', 'apple', 'kiwi']\n"
     ]
    }
   ],
   "source": [
    "list1 = [\"apple\", \"Orange\", \"Juice\", \"kiwi\"]\n",
    "list1.sort()\n",
    "print(list1)"
   ]
  },
  {
   "cell_type": "code",
   "execution_count": 36,
   "id": "cf86e536",
   "metadata": {},
   "outputs": [
    {
     "ename": "TypeError",
     "evalue": "list indices must be integers or slices, not tuple",
     "output_type": "error",
     "traceback": [
      "\u001b[0;31m---------------------------------------------------------------------------\u001b[0m",
      "\u001b[0;31mTypeError\u001b[0m                                 Traceback (most recent call last)",
      "Cell \u001b[0;32mIn[36], line 1\u001b[0m\n\u001b[0;32m----> 1\u001b[0m list1[\u001b[38;5;241m1\u001b[39m,\u001b[38;5;241m2\u001b[39m,\u001b[38;5;28;01mTrue\u001b[39;00m,\u001b[38;5;241m-\u001b[39m\u001b[38;5;241m1\u001b[39m] \u001b[38;5;66;03m## True is 1, False is 0\u001b[39;00m\n\u001b[1;32m      2\u001b[0m list1\u001b[38;5;241m.\u001b[39msort()\n\u001b[1;32m      3\u001b[0m \u001b[38;5;28mprint\u001b[39m(list1)\n",
      "\u001b[0;31mTypeError\u001b[0m: list indices must be integers or slices, not tuple"
     ]
    }
   ],
   "source": [
    "list1[1,2,True,-1] ## True is 1, False is 0\n",
    "list1.sort()\n",
    "print(list1)"
   ]
  },
  {
   "cell_type": "code",
   "execution_count": null,
   "id": "92007ee9",
   "metadata": {},
   "outputs": [],
   "source": [
    "list1 = [1,2,\"Python\",3]\n",
    "list1.sort()\n",
    "print(list1) ##we cannot compare int and list"
   ]
  }
 ],
 "metadata": {
  "kernelspec": {
   "display_name": "Python 3 (ipykernel)",
   "language": "python",
   "name": "python3"
  },
  "language_info": {
   "codemirror_mode": {
    "name": "ipython",
    "version": 3
   },
   "file_extension": ".py",
   "mimetype": "text/x-python",
   "name": "python",
   "nbconvert_exporter": "python",
   "pygments_lexer": "ipython3",
   "version": "3.11.5"
  }
 },
 "nbformat": 4,
 "nbformat_minor": 5
}
