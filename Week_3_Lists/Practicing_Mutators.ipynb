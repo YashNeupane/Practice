{
 "cells": [
  {
   "cell_type": "code",
   "execution_count": 1,
   "id": "75745685",
   "metadata": {},
   "outputs": [],
   "source": [
    "#Hello I am about to practice mutators from python. "
   ]
  },
  {
   "cell_type": "code",
   "execution_count": 6,
   "id": "8771070a",
   "metadata": {},
   "outputs": [
    {
     "name": "stdout",
     "output_type": "stream",
     "text": [
      "['apple', 'banana', 'orange', ['Watermelon', 'cake']]\n"
     ]
    }
   ],
   "source": [
    "#1. Data.append(val)\n",
    "\n",
    "fruits = ['apple','banana','orange']\n",
    "\n",
    "#fruits.append('Watermelon','cake')- you cannot do this because The issue here is that the append method can only take one argument at a time. \n",
    "\n",
    "fruits.append(['Watermelon','cake']) \n",
    "\n",
    "print(fruits)\n",
    "\n",
    "# Conclusion about the append method:\n",
    "# The append method will take the value exactly what's written here \n",
    "#for example it took ['Watermelon','cake'] and placed that at the end of the list exactly how it was written.\n"
   ]
  },
  {
   "cell_type": "code",
   "execution_count": 15,
   "id": "9aabec5c",
   "metadata": {},
   "outputs": [
    {
     "name": "stdout",
     "output_type": "stream",
     "text": [
      "['apple', 'banana', ['bake', 'cake'], 'watermelon', 'orange']\n"
     ]
    }
   ],
   "source": [
    "#2. Data.insert(i,val)\n",
    "\n",
    "fruits = ['apple','banana',\"orange\"]\n",
    "\n",
    "fruits.insert(2,\"watermelon\") \n",
    "fruits.insert(2,[\"bake\", \"cake\"])\n",
    "\n",
    "print(fruits)\n",
    "\n",
    "#Conclusion about the insert method.\n",
    "# This method lets us insert what we want in the middle of the list using the index.\n",
    "# This method also prints exactly what you put in the (#,val) val part. "
   ]
  },
  {
   "cell_type": "code",
   "execution_count": 17,
   "id": "049140df",
   "metadata": {},
   "outputs": [
    {
     "name": "stdout",
     "output_type": "stream",
     "text": [
      "['apple', 'banana', 'orange', 'Watermelon', 'coconut']\n"
     ]
    }
   ],
   "source": [
    "#3 Data.extend(otherlist)\n",
    "\n",
    "fruits = ['apple','banana',\"orange\"]\n",
    "\n",
    "fruits.extend(['Watermelon','coconut'])\n",
    "\n",
    "print(fruits)\n",
    "\n",
    "#Conclusion about the extend method.\n",
    "# It takes the inside part and adds it onto the end of the fruits list."
   ]
  },
  {
   "cell_type": "code",
   "execution_count": 18,
   "id": "110b983e",
   "metadata": {},
   "outputs": [
    {
     "name": "stdout",
     "output_type": "stream",
     "text": [
      "['apple', 'orange']\n"
     ]
    }
   ],
   "source": [
    "#4 Data.remove(val)\n",
    "\n",
    "fruits = ['apple','banana',\"orange\"]\n",
    "\n",
    "fruits.remove('banana')\n",
    "\n",
    "print(fruits)\n",
    "\n",
    "#Removes the earliest occurance of val found in the list.\n"
   ]
  },
  {
   "cell_type": "code",
   "execution_count": 34,
   "id": "6605ad0a",
   "metadata": {},
   "outputs": [
    {
     "name": "stdout",
     "output_type": "stream",
     "text": [
      "['apple', 'banana']\n"
     ]
    }
   ],
   "source": [
    "#5 Data.pop()\n",
    "\n",
    "fruits = ['apple','banana',\"orange\"]\n",
    "\n",
    "fruits.pop()\n",
    "\n",
    "print(fruits)\n",
    "\n",
    "\n",
    "\n",
    "## Conclusion\n",
    "# Takes away the last thing from the list\n",
    "# Can return value. \n"
   ]
  },
  {
   "cell_type": "code",
   "execution_count": 35,
   "id": "55eccb93",
   "metadata": {},
   "outputs": [
    {
     "name": "stdout",
     "output_type": "stream",
     "text": [
      "orange banana\n"
     ]
    }
   ],
   "source": [
    "#6 Data.pop() --returns the value test--\n",
    "\n",
    "fruits = ['apple','banana',\"orange\"]\n",
    "\n",
    "x = fruits.pop()\n",
    "y = fruits.pop(1)\n",
    "\n",
    "print(x,y)"
   ]
  },
  {
   "cell_type": "code",
   "execution_count": 37,
   "id": "1e6a441c",
   "metadata": {},
   "outputs": [
    {
     "name": "stdout",
     "output_type": "stream",
     "text": [
      "['orange', 'banana', 'apple']\n"
     ]
    }
   ],
   "source": [
    "#7 Data.reverse()\n",
    "\n",
    "fruits = ['apple','banana',\"orange\"]\n",
    "\n",
    "fruits.reverse()\n",
    "\n",
    "print(fruits)\n",
    "\n",
    "#Conculison for reverse\n",
    "# Reverses the order of the list's elements"
   ]
  },
  {
   "cell_type": "code",
   "execution_count": 39,
   "id": "8548df4d",
   "metadata": {},
   "outputs": [
    {
     "name": "stdout",
     "output_type": "stream",
     "text": [
      "['apple', 'banana', 'orange']\n",
      "['orange', 'banana', 'apple']\n",
      "[False, 1, True, 2, 3]\n",
      "[3, 2, 1, True, False]\n"
     ]
    }
   ],
   "source": [
    "#8 Data.sort() \n",
    "fruits = ['apple','banana',\"orange\"]\n",
    "\n",
    "fruits.sort() # fruits.sort() sorts elements in a list in the ascending order\n",
    "\n",
    "print(fruits)\n",
    "\n",
    "\n",
    "fruits.sort(reverse = True) # by providing the option reverse=True, sort() sorts elements in the descending order\n",
    "print(fruits)\n",
    "\n",
    "\n",
    "examplelist = [1,2,3,True,False]\n",
    "\n",
    "examplelist.sort()\n",
    "\n",
    "print(examplelist)\n",
    "\n",
    "examplelist.sort(reverse = True)\n",
    "\n",
    "print(examplelist)\n"
   ]
  },
  {
   "cell_type": "code",
   "execution_count": null,
   "id": "60f59694",
   "metadata": {},
   "outputs": [],
   "source": [
    "# Data.sort()\n",
    "\n",
    "listExample = [1, 2, \"Python\", True]\n",
    "listExample.sort()  # this will lead to an error because we cannot compare int and str in python\n",
    "print(listExample)"
   ]
  }
 ],
 "metadata": {
  "kernelspec": {
   "display_name": "Python 3 (ipykernel)",
   "language": "python",
   "name": "python3"
  },
  "language_info": {
   "codemirror_mode": {
    "name": "ipython",
    "version": 3
   },
   "file_extension": ".py",
   "mimetype": "text/x-python",
   "name": "python",
   "nbconvert_exporter": "python",
   "pygments_lexer": "ipython3",
   "version": "3.11.5"
  }
 },
 "nbformat": 4,
 "nbformat_minor": 5
}
