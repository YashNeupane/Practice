{
 "cells": [
  {
   "cell_type": "code",
   "execution_count": 3,
   "id": "e5ce694c",
   "metadata": {},
   "outputs": [
    {
     "name": "stdout",
     "output_type": "stream",
     "text": [
      "2\n",
      "The number of fruit types is 2\n",
      "0\n"
     ]
    }
   ],
   "source": [
    "# 1. len() return the number of elements in a list\n",
    "fruits = [\"apple\", \"grape\"]\n",
    "print(len(fruits))\n",
    "print(\"The number of fruit types is \"+ str(len(fruits)))\n",
    "\n",
    "# store the length of fruits in a variable lenOfFruits to be used later\n",
    "lenOfFuits = len(fruits)\n",
    "\n",
    "# 2. data.count(val) returns the number of occurrences of val in the list data\n",
    "print(fruits.count(\"pineapple\"))"
   ]
  },
  {
   "cell_type": "code",
   "execution_count": 4,
   "id": "d8b6ee89",
   "metadata": {},
   "outputs": [
    {
     "name": "stdout",
     "output_type": "stream",
     "text": [
      "2\n",
      "0\n",
      "1\n",
      "3\n"
     ]
    },
    {
     "ename": "ValueError",
     "evalue": "'c' is not in list",
     "output_type": "error",
     "traceback": [
      "\u001b[0;31m---------------------------------------------------------------------------\u001b[0m",
      "\u001b[0;31mValueError\u001b[0m                                Traceback (most recent call last)",
      "Cell \u001b[0;32mIn[4], line 15\u001b[0m\n\u001b[1;32m     13\u001b[0m \u001b[38;5;28mprint\u001b[39m(x\u001b[38;5;241m.\u001b[39mindex(\u001b[38;5;124m\"\u001b[39m\u001b[38;5;124ma\u001b[39m\u001b[38;5;124m\"\u001b[39m,\u001b[38;5;241m2\u001b[39m,\u001b[38;5;241m4\u001b[39m))\n\u001b[1;32m     14\u001b[0m \u001b[38;5;66;03m#print(x.index(\"a\",2,3)) # the element indexed by the stop index is not considered. This statement gives us an error.\u001b[39;00m\n\u001b[0;32m---> 15\u001b[0m \u001b[38;5;28mprint\u001b[39m(x\u001b[38;5;241m.\u001b[39mindex(\u001b[38;5;124m\"\u001b[39m\u001b[38;5;124mc\u001b[39m\u001b[38;5;124m\"\u001b[39m,\u001b[38;5;241m1\u001b[39m,\u001b[38;5;241m4\u001b[39m))\n",
      "\u001b[0;31mValueError\u001b[0m: 'c' is not in list"
     ]
    }
   ],
   "source": [
    "# 3. data.index(val) returns the smallest index of val in the list data\n",
    "x=[1,1,2,3,2]\n",
    "print(x.index(2))\n",
    "\n",
    "# 4. data.index(val,start) returns the smallest index, but larger than start, of val\n",
    "print(x.index(1))\n",
    "print(x.index(1,1))\n",
    "\n",
    "#5.  data.index(val,start,stop) returns the index of the earliest occurrence of val\n",
    "# between the index start and stop-1.\n",
    "\n",
    "x = [\"a\", \"a\", \"b\", \"a\",\"c\",\"a\"]\n",
    "print(x.index(\"a\",2,4))\n",
    "print(x.index(\"a\",2,3)) # the element indexed by the stop index is not considered. This statement gives us an error.\n",
    "print(x.index(\"c\",1,4))"
   ]
  },
  {
   "cell_type": "code",
   "execution_count": null,
   "id": "5f8f01f3",
   "metadata": {},
   "outputs": [],
   "source": [
    "# 6. ==, !=\n",
    "x=[1,2,4]\n",
    "y=[0.5,2,4]\n",
    "# == returns True only if the order and values of all elements in x\n",
    "# are the same as those in y\n",
    "print(x==y)\n",
    "print([1,2]==[2,1]) # the orders of the left list and the right list are different\n",
    "# != returns True if the order or value of any element in x is different from y\n",
    "print(x!=y)\n",
    "\n",
    "# 7. val in data\n",
    "# in is a reserved word\n",
    "# val in data returns True if val is in the list data\n",
    "x=[1,2,3]\n",
    "print(2 in x)\n",
    "print(5 in x)"
   ]
  },
  {
   "cell_type": "code",
   "execution_count": null,
   "id": "a7fd38c7",
   "metadata": {},
   "outputs": [],
   "source": []
  }
 ],
 "metadata": {
  "kernelspec": {
   "display_name": "Python 3 (ipykernel)",
   "language": "python",
   "name": "python3"
  },
  "language_info": {
   "codemirror_mode": {
    "name": "ipython",
    "version": 3
   },
   "file_extension": ".py",
   "mimetype": "text/x-python",
   "name": "python",
   "nbconvert_exporter": "python",
   "pygments_lexer": "ipython3",
   "version": "3.11.5"
  }
 },
 "nbformat": 4,
 "nbformat_minor": 5
}
