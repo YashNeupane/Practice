{
 "cells": [
  {
   "cell_type": "code",
   "execution_count": 10,
   "id": "2b318f0f",
   "metadata": {},
   "outputs": [],
   "source": [
    "# hello I am practicing Accessors, In python"
   ]
  },
  {
   "cell_type": "code",
   "execution_count": 11,
   "id": "ff704ff5",
   "metadata": {},
   "outputs": [
    {
     "name": "stdout",
     "output_type": "stream",
     "text": [
      "3\n",
      "The number of fruits in the basket are  3\n",
      "3\n"
     ]
    }
   ],
   "source": [
    "# len.(data)\n",
    "\n",
    "fruits = ['apple',\"banana\",\"orange\"]\n",
    "\n",
    "print(len(fruits)) # Prints how many things are in the list, there are 3 things.\n",
    "\n",
    "# Now you can save this number,\n",
    "\n",
    "print(\"The number of fruits in the basket are \" , len(fruits))\n",
    "\n",
    "numberoffruits = len(fruits) # saved the number of fruits in the num of fruits variable\n",
    "\n",
    "print(numberoffruits) # printed the number of fruits."
   ]
  },
  {
   "cell_type": "code",
   "execution_count": 26,
   "id": "864db506",
   "metadata": {},
   "outputs": [
    {
     "name": "stdout",
     "output_type": "stream",
     "text": [
      "2\n",
      "2\n",
      "There are 2 apples in the list\n"
     ]
    }
   ],
   "source": [
    "# 2. Data.count(val)\n",
    "\n",
    "fruits = ['apple',\"banana\",\"orange\",'apple']\n",
    "\n",
    "print(fruits.count('apple')) # counts how many apples there are \n",
    "\n",
    "numofapples = fruits.count('apple') #saves how many times apple is in the list\n",
    "\n",
    "print(numofapples) # prints the number of times apple is in the list\n",
    "\n",
    "print(\"There are \" + str(fruits.count('apple')) + ' apples in the list')\n",
    "\n"
   ]
  },
  {
   "cell_type": "code",
   "execution_count": 31,
   "id": "4c8629f2",
   "metadata": {},
   "outputs": [
    {
     "name": "stdout",
     "output_type": "stream",
     "text": [
      "0\n",
      "2\n"
     ]
    }
   ],
   "source": [
    "#3 Data.index(val)\n",
    "\n",
    "fruits = ['apple',\"banana\",\"orange\",'apple']\n",
    "\n",
    "print(fruits.index('apple')) # prints the index that apple first appears\n",
    "\n",
    "Numbers = [1,1,2,3,2]\n",
    "\n",
    "print(Numbers.index(2)) #prints the index that the number 2 first appears\n"
   ]
  },
  {
   "cell_type": "code",
   "execution_count": 49,
   "id": "e3161aa5",
   "metadata": {},
   "outputs": [
    {
     "name": "stdout",
     "output_type": "stream",
     "text": [
      "2\n"
     ]
    }
   ],
   "source": [
    "# 4. data.index(val,start) returns the smallest index, but larger than start, of val\n",
    "\n",
    "Numbers = [1,1,2,3,2]\n",
    "\n",
    "print(Numbers.index(2,1)) #this gives us the first occurance of 2 after the index 1\n"
   ]
  },
  {
   "cell_type": "code",
   "execution_count": 52,
   "id": "1c4edf9a",
   "metadata": {},
   "outputs": [
    {
     "name": "stdout",
     "output_type": "stream",
     "text": [
      "2\n"
     ]
    }
   ],
   "source": [
    "#5. data.index(val,start,stop)\n",
    "\n",
    "Numbers = [1,1,2,3,2]\n",
    "\n",
    "print(Numbers.index(2,0,5)) #Starts looking from the 0'th index to the last index and gives the first occurance of the value."
   ]
  },
  {
   "cell_type": "code",
   "execution_count": 60,
   "id": "c339cc9f",
   "metadata": {},
   "outputs": [
    {
     "name": "stdout",
     "output_type": "stream",
     "text": [
      "False\n",
      "False\n",
      "True\n"
     ]
    }
   ],
   "source": [
    "# Data a == Data B\n",
    "\n",
    "x=[1,2,4]\n",
    "y=[0.5,2,4]\n",
    "\n",
    "print(x==y)\n",
    "\n",
    "print([1,2]==[2,1])\n",
    "\n",
    "print(x!=y)"
   ]
  },
  {
   "cell_type": "code",
   "execution_count": null,
   "id": "f60420a0",
   "metadata": {},
   "outputs": [],
   "source": [
    "#isnot data"
   ]
  },
  {
   "cell_type": "code",
   "execution_count": 61,
   "id": "2255859e",
   "metadata": {},
   "outputs": [
    {
     "name": "stdout",
     "output_type": "stream",
     "text": [
      "True\n",
      "False\n"
     ]
    }
   ],
   "source": [
    "# 7. val in data\n",
    "# in is a reserved word\n",
    "# val in data returns True if val is in the list data\n",
    "x=[1,2,3]\n",
    "print(2 in x)\n",
    "print(5 in x)"
   ]
  },
  {
   "cell_type": "code",
   "execution_count": null,
   "id": "c0d35b5a",
   "metadata": {},
   "outputs": [],
   "source": []
  }
 ],
 "metadata": {
  "kernelspec": {
   "display_name": "Python 3 (ipykernel)",
   "language": "python",
   "name": "python3"
  },
  "language_info": {
   "codemirror_mode": {
    "name": "ipython",
    "version": 3
   },
   "file_extension": ".py",
   "mimetype": "text/x-python",
   "name": "python",
   "nbconvert_exporter": "python",
   "pygments_lexer": "ipython3",
   "version": "3.11.5"
  }
 },
 "nbformat": 4,
 "nbformat_minor": 5
}
