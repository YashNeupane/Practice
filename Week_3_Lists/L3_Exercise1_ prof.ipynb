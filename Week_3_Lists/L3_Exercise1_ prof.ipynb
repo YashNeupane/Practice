{
 "cells": [
  {
   "cell_type": "code",
   "execution_count": 2,
   "id": "ade0235f",
   "metadata": {},
   "outputs": [
    {
     "name": "stdout",
     "output_type": "stream",
     "text": [
      "1\n"
     ]
    }
   ],
   "source": [
    "fruits = [\"apple\", \"orange\", \"kiwi\", \"peach\"]\n",
    "# Create a list named fruits whose value is [\"apple\", \"orange\", \"kiwi\", \"peach\"]\n",
    "fruits = [\"apple\", \"orange\", \"kiwi\", \"peach\"]\n",
    "\n",
    "# Write a statement that adds \"watermelon\" between \"orange\" and \"kiwi\"\n",
    "fruits.insert(2,\"watermelon\")\n",
    "# do not write fruits=fruits.insert(2,\"watermelon\")\n",
    "\n",
    "# Write a statement that creates a new list named fruitsInStore containing every other elements except the first element in fruits.\n",
    "fruitsInStore=fruits[1:4]\n",
    "# equivalently, you can write fruitsInStore=fruits[1:]\n",
    "\n",
    "# Write a statement that drops \"kiwi\" in the list\n",
    "fruits.remove(\"kiwi\")\n",
    "# do not write fruits=fruits.remove(\"kiwi\")\n",
    "# you can write fruits.pop(3)\n",
    "\n",
    "# Write a statement that prints the index of \"orange\"\n",
    "print(fruits.index(\"orange\"))"
   ]
  },
  {
   "cell_type": "code",
   "execution_count": null,
   "id": "88950ae7",
   "metadata": {},
   "outputs": [],
   "source": []
  }
 ],
 "metadata": {
  "kernelspec": {
   "display_name": "Python 3 (ipykernel)",
   "language": "python",
   "name": "python3"
  },
  "language_info": {
   "codemirror_mode": {
    "name": "ipython",
    "version": 3
   },
   "file_extension": ".py",
   "mimetype": "text/x-python",
   "name": "python",
   "nbconvert_exporter": "python",
   "pygments_lexer": "ipython3",
   "version": "3.11.5"
  }
 },
 "nbformat": 4,
 "nbformat_minor": 5
}
