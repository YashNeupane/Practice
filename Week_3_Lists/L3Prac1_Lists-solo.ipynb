{
 "cells": [
  {
   "cell_type": "code",
   "execution_count": 20,
   "id": "66a998c4",
   "metadata": {},
   "outputs": [
    {
     "name": "stdout",
     "output_type": "stream",
     "text": [
      "['apple', 'orange', 'watermelon', 'kiwi', 'peach']\n",
      "['apple', 'orange', 'watermelon', 'kiwi', 'peach']\n",
      "['apple', 'orange', 'watermelon', 'peach']\n",
      "1\n"
     ]
    }
   ],
   "source": [
    "#1. list named fruit\n",
    "fruit = [\"apple\", \"orange\", \"kiwi\",\"peach\"]\n",
    "\n",
    "\n",
    "#1.\n",
    "fruit.insert(2,\"watermelon\")\n",
    "\n",
    "print(fruit)\n",
    "\n",
    "#2. \n",
    "fruitsInStore=fruit[2:4]\n",
    "\n",
    "print(fruit)\n",
    "\n",
    "#3.\n",
    "\n",
    "fruit.remove(\"kiwi\")\n",
    "\n",
    "print(fruit)\n",
    "\n",
    "#4.\n",
    "\n",
    "indexoforange = fruit.index('orange')\n",
    "\n",
    "print(indexoforange)"
   ]
  },
  {
   "cell_type": "code",
   "execution_count": 43,
   "id": "8c726b92",
   "metadata": {},
   "outputs": [],
   "source": [
    "# do we slice apple? "
   ]
  },
  {
   "cell_type": "code",
   "execution_count": 44,
   "id": "e0649ad9",
   "metadata": {},
   "outputs": [],
   "source": [
    "#"
   ]
  },
  {
   "cell_type": "code",
   "execution_count": 45,
   "id": "929607be",
   "metadata": {},
   "outputs": [],
   "source": [
    "#"
   ]
  },
  {
   "cell_type": "code",
   "execution_count": null,
   "id": "e36700b2",
   "metadata": {},
   "outputs": [],
   "source": []
  }
 ],
 "metadata": {
  "kernelspec": {
   "display_name": "Python 3 (ipykernel)",
   "language": "python",
   "name": "python3"
  },
  "language_info": {
   "codemirror_mode": {
    "name": "ipython",
    "version": 3
   },
   "file_extension": ".py",
   "mimetype": "text/x-python",
   "name": "python",
   "nbconvert_exporter": "python",
   "pygments_lexer": "ipython3",
   "version": "3.11.5"
  }
 },
 "nbformat": 4,
 "nbformat_minor": 5
}
