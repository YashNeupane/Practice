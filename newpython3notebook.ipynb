{
 "cells": [
  {
   "cell_type": "code",
   "execution_count": 1,
   "id": "b6a28e78",
   "metadata": {},
   "outputs": [
    {
     "name": "stdout",
     "output_type": "stream",
     "text": [
      "3.11.5\n"
     ]
    }
   ],
   "source": [
    "import platform\n",
    "print (platform.python_version())"
   ]
  },
  {
   "cell_type": "code",
   "execution_count": 2,
   "id": "24b71ca2",
   "metadata": {},
   "outputs": [
    {
     "name": "stdout",
     "output_type": "stream",
     "text": [
      "Please enter your full name separated by spaces only: Yash Neupane\n",
      "Hello Yash Neupane. Your name contains 12 characters\n"
     ]
    }
   ],
   "source": [
    "user_name = input('Please enter your full name separated by spaces only: ')\n",
    "len_name = len(user_name)\n",
    "print('Hello {}. Your name contains {} characters'.format(user_name, len_name))"
   ]
  },
  {
   "cell_type": "code",
   "execution_count": null,
   "id": "1611b8bd",
   "metadata": {},
   "outputs": [],
   "source": []
  }
 ],
 "metadata": {
  "kernelspec": {
   "display_name": "Python 3 (ipykernel)",
   "language": "python",
   "name": "python3"
  },
  "language_info": {
   "codemirror_mode": {
    "name": "ipython",
    "version": 3
   },
   "file_extension": ".py",
   "mimetype": "text/x-python",
   "name": "python",
   "nbconvert_exporter": "python",
   "pygments_lexer": "ipython3",
   "version": "3.11.5"
  }
 },
 "nbformat": 4,
 "nbformat_minor": 5
}
