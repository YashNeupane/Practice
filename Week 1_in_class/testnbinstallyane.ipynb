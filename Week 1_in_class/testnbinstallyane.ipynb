{
 "cells": [
  {
   "cell_type": "code",
   "execution_count": 1,
   "metadata": {},
   "outputs": [
    {
     "name": "stdout",
     "output_type": "stream",
     "text": [
      "2024-01-18 13:22:41.353375\n",
      "yes\n",
      "Current year: 2024\n",
      "Current month: 1\n",
      "Current day: 18\n",
      "Current hour: 13\n",
      "Current minute: 22\n",
      "Current second: 41\n",
      "Current microsecond: 353375\n"
     ]
    }
   ],
   "source": [
    "import datetime\n",
    "now = datetime.datetime.now()\n",
    "# Hongchang's first practice\n",
    "print(now)\n",
    "print(\"yes\")\n",
    "print(\"Current year: {}\".format(now.year))\n",
    "print(\"Current month: {}\".format(now.month))\n",
    "print(\"Current day: {}\".format(now.day))\n",
    "print(\"Current hour: {}\".format(now.hour))\n",
    "print(\"Current minute: {}\".format(now.minute))\n",
    "print(\"Current second: {}\".format(now.second))\n",
    "print(\"Current microsecond: {}\".format(now.microsecond))"
   ]
  },
  {
   "cell_type": "code",
   "execution_count": 4,
   "metadata": {
    "scrolled": true
   },
   "outputs": [
    {
     "name": "stdout",
     "output_type": "stream",
     "text": [
      "3.11.5\n"
     ]
    }
   ],
   "source": [
    "import platform\n",
    "print(platform.python_version())"
   ]
  },
  {
   "cell_type": "code",
   "execution_count": 3,
   "metadata": {},
   "outputs": [
    {
     "name": "stdout",
     "output_type": "stream",
     "text": [
      "Please enter your full name separated by spaces only: Yash Neupane\n",
      "Hello Yash Neupane. Your name contains 12 characters\n"
     ]
    }
   ],
   "source": [
    "user_name = input('Please enter your full name separated by spaces only: ')\n",
    "len_name = len(user_name)\n",
    "print('Hello {}. Your name contains {} characters'.format(user_name, len_name))"
   ]
  },
  {
   "cell_type": "code",
   "execution_count": 1,
   "metadata": {},
   "outputs": [
    {
     "name": "stdout",
     "output_type": "stream",
     "text": [
      "Please enter your full name separated by spaces only: Yash Neupane\n",
      "Hello Yash Neupane. Your name contains 12 characters\n"
     ]
    }
   ],
   "source": [
    "%run testinstall.py "
   ]
  },
  {
   "cell_type": "code",
   "execution_count": 1,
   "metadata": {},
   "outputs": [
    {
     "name": "stdout",
     "output_type": "stream",
     "text": [
      "Please enter your full name separated by spaces only: Yash Neupane\n",
      "Hello Yash Neupane. Your name contains 12 characters\n"
     ]
    }
   ],
   "source": [
    "user_name = input('Please enter your full name separated by spaces only: ')\n",
    "len_name = len(user_name)\n",
    "print('Hello {}. Your name contains {} characters'.format(user_name, len_name))"
   ]
  },
  {
   "cell_type": "code",
   "execution_count": null,
   "metadata": {},
   "outputs": [],
   "source": []
  }
 ],
 "metadata": {
  "kernelspec": {
   "display_name": "Python 3 (ipykernel)",
   "language": "python",
   "name": "python3"
  },
  "language_info": {
   "codemirror_mode": {
    "name": "ipython",
    "version": 3
   },
   "file_extension": ".py",
   "mimetype": "text/x-python",
   "name": "python",
   "nbconvert_exporter": "python",
   "pygments_lexer": "ipython3",
   "version": "3.11.5"
  }
 },
 "nbformat": 4,
 "nbformat_minor": 2
}
