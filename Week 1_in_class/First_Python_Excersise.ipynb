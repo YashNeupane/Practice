{
 "cells": [
  {
   "cell_type": "code",
   "execution_count": 2,
   "id": "7b077d99",
   "metadata": {},
   "outputs": [
    {
     "name": "stdout",
     "output_type": "stream",
     "text": [
      "Hello, ITSS 4381\n"
     ]
    }
   ],
   "source": [
    "print(\"Hello, ITSS 4381\")"
   ]
  },
  {
   "cell_type": "code",
   "execution_count": 3,
   "id": "e341852e",
   "metadata": {},
   "outputs": [
    {
     "name": "stdout",
     "output_type": "stream",
     "text": [
      "My name is Yash\n"
     ]
    }
   ],
   "source": [
    "print(\"My name is Yash\")"
   ]
  },
  {
   "cell_type": "markdown",
   "id": "abe5795b",
   "metadata": {},
   "source": [
    "# First Class about python"
   ]
  },
  {
   "cell_type": "code",
   "execution_count": 6,
   "id": "330bd04b",
   "metadata": {},
   "outputs": [
    {
     "name": "stdout",
     "output_type": "stream",
     "text": [
      "Python programming is fun\n"
     ]
    }
   ],
   "source": [
    "###- you can use as many hastags you want\n",
    "### Author: Yash Neupane\n",
    "###Date: Jan 18th 2024\n",
    "print('Python programming is fun')\n",
    "#You can use 1 quotation mark or 3 its okay"
   ]
  },
  {
   "cell_type": "code",
   "execution_count": 12,
   "id": "7f16e5b8",
   "metadata": {
    "scrolled": true
   },
   "outputs": [
    {
     "name": "stdout",
     "output_type": "stream",
     "text": [
      "I like python\n",
      "I hate java\n",
      "I like python I hate java\n",
      "I like python\n",
      "i hate java\n"
     ]
    }
   ],
   "source": [
    "#Semicolon is used when you wnat to write two things in one code ex:\n",
    "print(\"I like python\");print(\"I hate java\")\n",
    "print(\"I like python\", \"I hate java\")\n",
    "\n",
    "print(\"I like python\") \n",
    "print(\"i hate java\")\n",
    "#new line requires a new print\n",
    "#one line has one statement if you dont use semicolon. \n"
   ]
  },
  {
   "cell_type": "code",
   "execution_count": 14,
   "id": "fb202115",
   "metadata": {},
   "outputs": [
    {
     "name": "stdout",
     "output_type": "stream",
     "text": [
      "I Hte java    I love python\n"
     ]
    }
   ],
   "source": [
    "#the plus + sign is used like a comma, \n",
    "print (\"I Hte java\"+\"    I love python\")"
   ]
  },
  {
   "cell_type": "code",
   "execution_count": 17,
   "id": "2c653e9a",
   "metadata": {},
   "outputs": [
    {
     "ename": "IndentationError",
     "evalue": "unexpected indent (1317147748.py, line 2)",
     "output_type": "error",
     "traceback": [
      "\u001b[0;36m  Cell \u001b[0;32mIn[17], line 2\u001b[0;36m\u001b[0m\n\u001b[0;31m    Print(\"Hello again, world\")\u001b[0m\n\u001b[0m    ^\u001b[0m\n\u001b[0;31mIndentationError\u001b[0m\u001b[0;31m:\u001b[0m unexpected indent\n"
     ]
    }
   ],
   "source": [
    "print(\"hello, world\")\n",
    "     Print(\"Hello again, world\")\n",
    "    # There is an intendentation error!\n",
    "    # The beggining of each line must be alligned"
   ]
  },
  {
   "cell_type": "code",
   "execution_count": 22,
   "id": "0b57c588",
   "metadata": {},
   "outputs": [
    {
     "name": "stdout",
     "output_type": "stream",
     "text": [
      "x is not 5\n",
      "x is equal to 4\n"
     ]
    }
   ],
   "source": [
    "x=4\n",
    "if x==5:\n",
    "    print(\"x is 5\")\n",
    "    \n",
    "else:\n",
    "    print(\"x is not 5\")\n",
    "    print (\"x is equal to 4\")"
   ]
  },
  {
   "cell_type": "code",
   "execution_count": 2,
   "id": "4c83ee51",
   "metadata": {},
   "outputs": [
    {
     "name": "stdout",
     "output_type": "stream",
     "text": [
      "x is 4\n"
     ]
    }
   ],
   "source": [
    "x=4\n",
    "\n",
    "if x==5:\n",
    "    print(\"x is 5\")\n",
    "    \n",
    "elif x==3:\n",
    "    print(\"x is not 5\")\n",
    "    print (\"x is equal to 3\")\n",
    "    \n",
    "else:\n",
    "    print(\"x is 4\")"
   ]
  },
  {
   "cell_type": "code",
   "execution_count": null,
   "id": "ca2ba619",
   "metadata": {},
   "outputs": [],
   "source": []
  }
 ],
 "metadata": {
  "kernelspec": {
   "display_name": "Python 3 (ipykernel)",
   "language": "python",
   "name": "python3"
  },
  "language_info": {
   "codemirror_mode": {
    "name": "ipython",
    "version": 3
   },
   "file_extension": ".py",
   "mimetype": "text/x-python",
   "name": "python",
   "nbconvert_exporter": "python",
   "pygments_lexer": "ipython3",
   "version": "3.11.5"
  }
 },
 "nbformat": 4,
 "nbformat_minor": 5
}
