{
 "cells": [
  {
   "cell_type": "code",
   "execution_count": 12,
   "id": "ec43369d",
   "metadata": {},
   "outputs": [],
   "source": [
    "Grades = [\"Nathan\",[80,77,69,96,89]]\n",
    "\n",
    "x = Grades[1] #Selects the list that contains all the grades of nathan"
   ]
  },
  {
   "cell_type": "code",
   "execution_count": 15,
   "id": "5aa680d4",
   "metadata": {},
   "outputs": [
    {
     "name": "stdout",
     "output_type": "stream",
     "text": [
      "82.0\n"
     ]
    }
   ],
   "source": [
    "###copy grades\n",
    "CopyOfGrades = x[:] ##create an independent list x\n",
    "## change copyofgrades won't change x\n",
    "##alternatives: CopyOfGrades = x+[]; CopyOfGrades = x*1; CopyOfGrades = list(x)\n",
    "\n",
    "##make removement on copygrades\n",
    "CopyOfGrades.sort() ##from the lowest to the highest grades\n",
    "                    ##the 1st element would be lowest grade,the final \n",
    "                    ##element would be the highest grade\n",
    "        \n",
    "CopyOfGrades.pop(0) ##removing the lowest\n",
    "CopyOfGrades.pop(-1) ##removing the highest\n",
    "\n",
    "#print(CopyOfGrades)\n",
    "#80,77,89\n",
    "#0. 1. 2\n",
    "\n",
    "print((CopyOfGrades[0] + CopyOfGrades[1] + CopyOfGrades[2])/3) # gives me the avrage"
   ]
  },
  {
   "cell_type": "code",
   "execution_count": 11,
   "id": "ee81a6cb",
   "metadata": {},
   "outputs": [
    {
     "name": "stdout",
     "output_type": "stream",
     "text": [
      "82\n"
     ]
    }
   ],
   "source": [
    "import statistics \n",
    "print(statistics.mean(CopyOfGrades))"
   ]
  },
  {
   "cell_type": "code",
   "execution_count": 6,
   "id": "7206d6e3",
   "metadata": {},
   "outputs": [
    {
     "name": "stdout",
     "output_type": "stream",
     "text": [
      "['Nathan', [80, 77, 69, 96, 89]]\n"
     ]
    }
   ],
   "source": [
    "print(Grades)"
   ]
  },
  {
   "cell_type": "code",
   "execution_count": 12,
   "id": "b0c5db5c",
   "metadata": {},
   "outputs": [
    {
     "name": "stdout",
     "output_type": "stream",
     "text": [
      "80\n"
     ]
    }
   ],
   "source": [
    "print(statistics.median(Grades[1]))"
   ]
  },
  {
   "cell_type": "code",
   "execution_count": null,
   "id": "3748f40b",
   "metadata": {},
   "outputs": [],
   "source": []
  }
 ],
 "metadata": {
  "kernelspec": {
   "display_name": "Python 3 (ipykernel)",
   "language": "python",
   "name": "python3"
  },
  "language_info": {
   "codemirror_mode": {
    "name": "ipython",
    "version": 3
   },
   "file_extension": ".py",
   "mimetype": "text/x-python",
   "name": "python",
   "nbconvert_exporter": "python",
   "pygments_lexer": "ipython3",
   "version": "3.11.5"
  }
 },
 "nbformat": 4,
 "nbformat_minor": 5
}
