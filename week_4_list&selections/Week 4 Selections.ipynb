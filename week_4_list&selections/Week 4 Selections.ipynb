{
 "cells": [
  {
   "cell_type": "code",
   "execution_count": 8,
   "id": "53b2b9c7",
   "metadata": {},
   "outputs": [
    {
     "name": "stdout",
     "output_type": "stream",
     "text": [
      "low salary\n"
     ]
    }
   ],
   "source": [
    "salaryNextYear = 50000\n",
    "if salaryNextYear*2.71828**(-2) < 40000:\n",
    "    print(\"low salary\")\n",
    "else:\n",
    "    print(\"High Salary\")"
   ]
  },
  {
   "cell_type": "code",
   "execution_count": 15,
   "id": "42ba1390",
   "metadata": {},
   "outputs": [
    {
     "name": "stdout",
     "output_type": "stream",
     "text": [
      "hi, Python\n",
      "hello, world\n"
     ]
    }
   ],
   "source": [
    "## One way selection\n",
    "x = 2\n",
    "if x > 1:\n",
    "    print(\"hi, Python\")\n",
    "print(\"hello, world\") # out of selection statements\n"
   ]
  },
  {
   "cell_type": "code",
   "execution_count": 19,
   "id": "91a8c68e",
   "metadata": {},
   "outputs": [],
   "source": [
    "x = 0\n",
    "if x > 1 and x!=2:\n",
    "    print(\"x is greater than 1 and x is not 2\") # False and True returns a False "
   ]
  },
  {
   "cell_type": "code",
   "execution_count": 20,
   "id": "342f75b9",
   "metadata": {},
   "outputs": [
    {
     "ename": "SyntaxError",
     "evalue": "incomplete input (1245484328.py, line 1)",
     "output_type": "error",
     "traceback": [
      "\u001b[0;36m  Cell \u001b[0;32mIn[20], line 1\u001b[0;36m\u001b[0m\n\u001b[0;31m    if x>1 or x!=2: ## False or True\u001b[0m\n\u001b[0m                                    ^\u001b[0m\n\u001b[0;31mSyntaxError\u001b[0m\u001b[0;31m:\u001b[0m incomplete input\n"
     ]
    }
   ],
   "source": [
    "if x>1 or x!=2: ## False or True\n",
    "    print('X is greater than 1 or x is not 2')"
   ]
  },
  {
   "cell_type": "code",
   "execution_count": 22,
   "id": "660d9f9e",
   "metadata": {},
   "outputs": [
    {
     "name": "stdout",
     "output_type": "stream",
     "text": [
      "x is not 1 two or three\n"
     ]
    }
   ],
   "source": [
    "## multi-way if statements\n",
    "\n",
    "x = 0\n",
    "\n",
    "if x==1: ## use if in the first condition\n",
    "    print(\"x equals 1\")\n",
    "    \n",
    "elif x==2:\n",
    "    print(\"x equals 2\")\n",
    "    \n",
    "elif x==3:\n",
    "    print(\"x equals 3\")\n",
    "    \n",
    "else:\n",
    "    print(\"x is not 1 two or three\")"
   ]
  },
  {
   "cell_type": "code",
   "execution_count": 27,
   "id": "63b1c2cb",
   "metadata": {},
   "outputs": [
    {
     "name": "stdout",
     "output_type": "stream",
     "text": [
      "x is a negative number\n",
      "Finished!\n"
     ]
    }
   ],
   "source": [
    "x = 6\n",
    "\n",
    "if x>10:\n",
    "    print (\"x is greater than 10\") # false bc x is 6\n",
    "    \n",
    "elif x<10 and x>6:\n",
    "    print(\"x is greater than 6 but less than 10\") # x is not greater than 6\n",
    "    \n",
    "elif x<6 and x>2:\n",
    "    print(\"x is greater than 2 but less than 6\")\n",
    "    \n",
    "elif x<2 and x>0:\n",
    "    print(\"x is greater than 0 but less than 2\")\n",
    "\n",
    "else:\n",
    "    print('x is a negative number')\n",
    "\n",
    "print('Finished!')"
   ]
  },
  {
   "cell_type": "code",
   "execution_count": 30,
   "id": "0a7d7faf",
   "metadata": {},
   "outputs": [
    {
     "name": "stdout",
     "output_type": "stream",
     "text": [
      "x is greater than or equal to 3 \n"
     ]
    }
   ],
   "source": [
    "## NESTED Selections\n",
    "\n",
    "x = 3\n",
    "\n",
    "if x > 1: # if this is true go inside the nested if statement\n",
    "    if x < 3:# two-way\n",
    "        print(\"x is between 1 and 3\")\n",
    "        \n",
    "    else:\n",
    "        print(\"x is greater than or equal to 3 \")\n",
    "        \n",
    "# the first if controls everythingf within it\n",
    "## the second if contols the two print statements "
   ]
  },
  {
   "cell_type": "code",
   "execution_count": null,
   "id": "3d70c603",
   "metadata": {},
   "outputs": [],
   "source": [
    "\n",
    "\n"
   ]
  }
 ],
 "metadata": {
  "kernelspec": {
   "display_name": "Python 3 (ipykernel)",
   "language": "python",
   "name": "python3"
  },
  "language_info": {
   "codemirror_mode": {
    "name": "ipython",
    "version": 3
   },
   "file_extension": ".py",
   "mimetype": "text/x-python",
   "name": "python",
   "nbconvert_exporter": "python",
   "pygments_lexer": "ipython3",
   "version": "3.11.5"
  }
 },
 "nbformat": 4,
 "nbformat_minor": 5
}
