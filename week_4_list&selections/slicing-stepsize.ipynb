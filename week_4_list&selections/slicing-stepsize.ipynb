{
 "cells": [
  {
   "cell_type": "code",
   "execution_count": 2,
   "id": "2c9083de",
   "metadata": {},
   "outputs": [
    {
     "name": "stdout",
     "output_type": "stream",
     "text": [
      "[1, 2]\n"
     ]
    }
   ],
   "source": [
    "# Slicing\n",
    "x = [1,2,3,4]\n",
    "#R -4,-3,-2,-1\n",
    "\n",
    "print(x[0:2]) # Returns [1,2]\n",
    "print(x[2:4]) # Returns [3,4] as a list\n",
    "print(x[-4:-2])#the ending index is not included so it returns [1,2]\n"
   ]
  },
  {
   "cell_type": "code",
   "execution_count": 3,
   "id": "c659ec17",
   "metadata": {},
   "outputs": [
    {
     "name": "stdout",
     "output_type": "stream",
     "text": [
      "[]\n"
     ]
    }
   ],
   "source": [
    "print(x[-2:-4]) # "
   ]
  },
  {
   "cell_type": "code",
   "execution_count": 7,
   "id": "828952d0",
   "metadata": {},
   "outputs": [
    {
     "name": "stdout",
     "output_type": "stream",
     "text": [
      "[3, 4, 7]\n",
      "[3, 4, 7]\n",
      "['a', 'b', 'c'] [3, 4]\n"
     ]
    }
   ],
   "source": [
    "x = [2,3,4,7,8]\n",
    "   # -5,-4, -3,-2,-1\n",
    "print(x[1:-1])\n",
    "#3,4,7 bc the last one is never included\n",
    "print(x[-4:4])\n",
    "\n",
    "y=x[1:3]#[3,4]\n",
    "x = [\"a\",\"b\",\"c\"]\n",
    "print(x,y)\n"
   ]
  },
  {
   "cell_type": "code",
   "execution_count": 8,
   "id": "7eb0fc2d",
   "metadata": {},
   "outputs": [
    {
     "name": "stdout",
     "output_type": "stream",
     "text": [
      "[1, 3, 5]\n",
      "[1, 4]\n"
     ]
    }
   ],
   "source": [
    "#step size\n",
    "x = [1,2,3,4,5,6]\n",
    "print(x[0:5:2])# returns [1,3,5] \n",
    "print(x[0:5:3]) # returns [1,4]"
   ]
  },
  {
   "cell_type": "code",
   "execution_count": 11,
   "id": "16346cf3",
   "metadata": {},
   "outputs": [
    {
     "name": "stdout",
     "output_type": "stream",
     "text": [
      "[20, 18, 16, 14, 12]\n",
      "[11, 13, 15, 17, 19]\n"
     ]
    }
   ],
   "source": [
    "print(list(range(20,11,-2)))\n",
    "\n",
    "print(list(range(11,20,2)))"
   ]
  },
  {
   "cell_type": "code",
   "execution_count": null,
   "id": "33b13f2e",
   "metadata": {},
   "outputs": [],
   "source": []
  }
 ],
 "metadata": {
  "kernelspec": {
   "display_name": "Python 3 (ipykernel)",
   "language": "python",
   "name": "python3"
  },
  "language_info": {
   "codemirror_mode": {
    "name": "ipython",
    "version": 3
   },
   "file_extension": ".py",
   "mimetype": "text/x-python",
   "name": "python",
   "nbconvert_exporter": "python",
   "pygments_lexer": "ipython3",
   "version": "3.11.5"
  }
 },
 "nbformat": 4,
 "nbformat_minor": 5
}
