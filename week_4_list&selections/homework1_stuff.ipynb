{
 "cells": [
  {
   "cell_type": "raw",
   "id": "9c2ac6da",
   "metadata": {},
   "source": [
    "# highest value\n",
    "print(max(Grades[1]))\n",
    "# or sort from highest to lowest and pop -1 - Question 3 #2 (done)"
   ]
  },
  {
   "cell_type": "code",
   "execution_count": null,
   "id": "e9b56697",
   "metadata": {},
   "outputs": [],
   "source": [
    "# median value is the satistiics package\n",
    "statistics.mean  -(Question 3 #3) done\n",
    "                   (Question 3 #4) done"
   ]
  },
  {
   "cell_type": "code",
   "execution_count": null,
   "id": "b206cd3b",
   "metadata": {},
   "outputs": [],
   "source": [
    "# compare \n",
    "print(medial > avg) @ true or fallse  (Question 3 #5) done"
   ]
  },
  {
   "cell_type": "code",
   "execution_count": null,
   "id": "85a9d8b9",
   "metadata": {},
   "outputs": [],
   "source": [
    ".insert (Question 3 #6) done"
   ]
  },
  {
   "cell_type": "code",
   "execution_count": null,
   "id": "9cae1887",
   "metadata": {},
   "outputs": [],
   "source": [
    "remove hte highest price on the list and print the whole list agin (Question 3 #7) done"
   ]
  },
  {
   "cell_type": "code",
   "execution_count": null,
   "id": "058fd4ec",
   "metadata": {},
   "outputs": [],
   "source": [
    "favorite = [\"Camera \", 200]"
   ]
  },
  {
   "cell_type": "code",
   "execution_count": null,
   "id": "c1b32924",
   "metadata": {},
   "outputs": [],
   "source": [
    "data1 .append (fav)\n",
    "print fav\n",
    "print data1 "
   ]
  },
  {
   "cell_type": "code",
   "execution_count": null,
   "id": "ea3f92e0",
   "metadata": {},
   "outputs": [],
   "source": [
    "#7 use remove or pop for the copy of pop"
   ]
  }
 ],
 "metadata": {
  "kernelspec": {
   "display_name": "Python 3 (ipykernel)",
   "language": "python",
   "name": "python3"
  },
  "language_info": {
   "codemirror_mode": {
    "name": "ipython",
    "version": 3
   },
   "file_extension": ".py",
   "mimetype": "text/x-python",
   "name": "python",
   "nbconvert_exporter": "python",
   "pygments_lexer": "ipython3",
   "version": "3.11.5"
  }
 },
 "nbformat": 4,
 "nbformat_minor": 5
}
