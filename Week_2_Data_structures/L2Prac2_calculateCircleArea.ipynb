{
 "cells": [
  {
   "cell_type": "code",
   "execution_count": 1,
   "id": "43a36152",
   "metadata": {},
   "outputs": [
    {
     "name": "stdout",
     "output_type": "stream",
     "text": [
      "please input the radius: 3\n",
      "The radius of the circle is 3.0 and the area of the circle is 28.26\n"
     ]
    }
   ],
   "source": [
    "# Ask the user to input the radius\n",
    "radius= float(input(\"please input the radius: \"))\n",
    "##Input is default to be a string type\n",
    "# we use float function to convert it to a numerical value\n",
    "\n",
    "area = 3.14*radius*radius ## this is one way to do radius squared\n",
    "area = 3.14*radius**2     ## this is one way to do radius squared\n",
    "print (\"The radius of the circle is \" + str(radius) + \" and the area of the circle is \"+ str(area))"
   ]
  },
  {
   "cell_type": "code",
   "execution_count": 4,
   "id": "0cc53ae7",
   "metadata": {},
   "outputs": [
    {
     "name": "stdout",
     "output_type": "stream",
     "text": [
      "please enter your age12\n",
      "<class 'int'>\n"
     ]
    }
   ],
   "source": [
    "age = int(input (\"please enter your age\"))\n",
    "print (type (age))"
   ]
  },
  {
   "cell_type": "code",
   "execution_count": null,
   "id": "9f45348d",
   "metadata": {},
   "outputs": [],
   "source": []
  },
  {
   "cell_type": "code",
   "execution_count": null,
   "id": "479b8f12",
   "metadata": {},
   "outputs": [],
   "source": []
  },
  {
   "cell_type": "code",
   "execution_count": null,
   "id": "3154d142",
   "metadata": {},
   "outputs": [],
   "source": []
  },
  {
   "cell_type": "code",
   "execution_count": null,
   "id": "09bf3999",
   "metadata": {},
   "outputs": [],
   "source": []
  }
 ],
 "metadata": {
  "kernelspec": {
   "display_name": "Python 3 (ipykernel)",
   "language": "python",
   "name": "python3"
  },
  "language_info": {
   "codemirror_mode": {
    "name": "ipython",
    "version": 3
   },
   "file_extension": ".py",
   "mimetype": "text/x-python",
   "name": "python",
   "nbconvert_exporter": "python",
   "pygments_lexer": "ipython3",
   "version": "3.11.5"
  }
 },
 "nbformat": 4,
 "nbformat_minor": 5
}
