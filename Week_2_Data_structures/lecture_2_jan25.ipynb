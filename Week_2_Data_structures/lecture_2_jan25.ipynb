{
 "cells": [
  {
   "cell_type": "code",
   "execution_count": 1,
   "id": "6f6dec13",
   "metadata": {},
   "outputs": [
    {
     "name": "stdout",
     "output_type": "stream",
     "text": [
      "False\n"
     ]
    }
   ],
   "source": [
    "print(\"8\"==8)"
   ]
  },
  {
   "cell_type": "code",
   "execution_count": 2,
   "id": "a334b091",
   "metadata": {},
   "outputs": [
    {
     "name": "stdout",
     "output_type": "stream",
     "text": [
      "Today is 25\n",
      "today is 25\n"
     ]
    }
   ],
   "source": [
    "print(\"Today is \" + str(25))\n",
    "print(\"today is \"+ \"25\")"
   ]
  },
  {
   "cell_type": "code",
   "execution_count": 3,
   "id": "0f6d6c31",
   "metadata": {},
   "outputs": [
    {
     "name": "stdout",
     "output_type": "stream",
     "text": [
      "8.5\n"
     ]
    }
   ],
   "source": [
    "print(3+5.5)"
   ]
  },
  {
   "cell_type": "code",
   "execution_count": 12,
   "id": "eec8053d",
   "metadata": {},
   "outputs": [
    {
     "name": "stdout",
     "output_type": "stream",
     "text": [
      "3\n",
      "4\n",
      "2\n",
      "2\n"
     ]
    }
   ],
   "source": [
    "print(3+False)\n",
    "print (3+True)\n",
    "print (True+True)\n",
    "\n",
    "x=True\n",
    "print(x+True)"
   ]
  },
  {
   "cell_type": "code",
   "execution_count": 15,
   "id": "0512b215",
   "metadata": {},
   "outputs": [
    {
     "name": "stdout",
     "output_type": "stream",
     "text": [
      "2\n"
     ]
    }
   ],
   "source": [
    "x,y,z=2,3,-5.5\n",
    "print(x)"
   ]
  },
  {
   "cell_type": "code",
   "execution_count": 16,
   "id": "7d690b5f",
   "metadata": {},
   "outputs": [
    {
     "ename": "ValueError",
     "evalue": "not enough values to unpack (expected 3, got 2)",
     "output_type": "error",
     "traceback": [
      "\u001b[0;31m---------------------------------------------------------------------------\u001b[0m",
      "\u001b[0;31mValueError\u001b[0m                                Traceback (most recent call last)",
      "Cell \u001b[0;32mIn[16], line 1\u001b[0m\n\u001b[0;32m----> 1\u001b[0m x,y,z\u001b[38;5;241m=\u001b[39m\u001b[38;5;241m4\u001b[39m,\u001b[38;5;241m5\u001b[39m\n",
      "\u001b[0;31mValueError\u001b[0m: not enough values to unpack (expected 3, got 2)"
     ]
    }
   ],
   "source": [
    "x,y,z=4,5\n",
    "#Error"
   ]
  },
  {
   "cell_type": "code",
   "execution_count": 19,
   "id": "6b6194d8",
   "metadata": {},
   "outputs": [
    {
     "name": "stdout",
     "output_type": "stream",
     "text": [
      "8\n",
      "8\n"
     ]
    }
   ],
   "source": [
    "x = 60\n",
    "x %= 13\n",
    "print(x) ## x = x%13(x value is updated)\n",
    "\n",
    "print(60%13)"
   ]
  },
  {
   "cell_type": "code",
   "execution_count": null,
   "id": "ca5bb230",
   "metadata": {},
   "outputs": [],
   "source": []
  }
 ],
 "metadata": {
  "kernelspec": {
   "display_name": "Python 3 (ipykernel)",
   "language": "python",
   "name": "python3"
  },
  "language_info": {
   "codemirror_mode": {
    "name": "ipython",
    "version": 3
   },
   "file_extension": ".py",
   "mimetype": "text/x-python",
   "name": "python",
   "nbconvert_exporter": "python",
   "pygments_lexer": "ipython3",
   "version": "3.11.5"
  }
 },
 "nbformat": 4,
 "nbformat_minor": 5
}
