{
 "cells": [
  {
   "cell_type": "code",
   "execution_count": null,
   "id": "0382f937",
   "metadata": {},
   "outputs": [],
   "source": [
    "## use type() to see the type of a variable\n",
    "\n",
    "x = 1 \n",
    "print(type (x))\n"
   ]
  },
  {
   "cell_type": "code",
   "execution_count": null,
   "id": "2bb7a217",
   "metadata": {},
   "outputs": [],
   "source": [
    "print (type(True))"
   ]
  },
  {
   "cell_type": "code",
   "execution_count": null,
   "id": "fb8e9828",
   "metadata": {},
   "outputs": [],
   "source": [
    "# Type conversion\n",
    "print (int(1.234))\n",
    "print (int(-3.6))\n",
    "print(float (1))\n",
    "print()"
   ]
  },
  {
   "cell_type": "code",
   "execution_count": null,
   "id": "17020b1c",
   "metadata": {},
   "outputs": [],
   "source": [
    "x=1\n",
    "print(x)\n",
    "x=2.2\n",
    "print (x)\n",
    "x=\"hello\"\n",
    "print(x)"
   ]
  },
  {
   "cell_type": "code",
   "execution_count": 4,
   "id": "133196d4",
   "metadata": {},
   "outputs": [
    {
     "name": "stdout",
     "output_type": "stream",
     "text": [
      "1.3\n",
      "3.3\n"
     ]
    }
   ],
   "source": [
    "x,y,z=1.3,2.2,3.3\n",
    "print (x)\n",
    "x=y=z\n",
    "print(x)"
   ]
  },
  {
   "cell_type": "code",
   "execution_count": 7,
   "id": "1dfc9556",
   "metadata": {},
   "outputs": [
    {
     "name": "stdout",
     "output_type": "stream",
     "text": [
      "16\n",
      "16\n"
     ]
    }
   ],
   "source": [
    "x=2**4\n",
    "print(x)\n",
    "print((pow(2,4)))"
   ]
  },
  {
   "cell_type": "code",
   "execution_count": 8,
   "id": "a3549119",
   "metadata": {},
   "outputs": [
    {
     "name": "stdout",
     "output_type": "stream",
     "text": [
      "1\n"
     ]
    }
   ],
   "source": [
    "print (abs(-1))"
   ]
  },
  {
   "cell_type": "code",
   "execution_count": 10,
   "id": "4464f37c",
   "metadata": {},
   "outputs": [
    {
     "name": "stdout",
     "output_type": "stream",
     "text": [
      "True\n",
      "False\n",
      "True\n"
     ]
    }
   ],
   "source": [
    "print(bool(1))\n",
    "print (bool(0))\n",
    "print (bool(\"hello\"))"
   ]
  },
  {
   "cell_type": "code",
   "execution_count": 12,
   "id": "0e5bc106",
   "metadata": {},
   "outputs": [
    {
     "name": "stdout",
     "output_type": "stream",
     "text": [
      "x equals1\n"
     ]
    }
   ],
   "source": [
    "x=1\n",
    "print(\"x equals \" + \"1\")\n",
    "\n",
    "# The + is a concatenation(series)"
   ]
  },
  {
   "cell_type": "code",
   "execution_count": null,
   "id": "f0c50ec8",
   "metadata": {},
   "outputs": [],
   "source": []
  }
 ],
 "metadata": {
  "kernelspec": {
   "display_name": "Python 3 (ipykernel)",
   "language": "python",
   "name": "python3"
  },
  "language_info": {
   "codemirror_mode": {
    "name": "ipython",
    "version": 3
   },
   "file_extension": ".py",
   "mimetype": "text/x-python",
   "name": "python",
   "nbconvert_exporter": "python",
   "pygments_lexer": "ipython3",
   "version": "3.11.5"
  }
 },
 "nbformat": 4,
 "nbformat_minor": 5
}
